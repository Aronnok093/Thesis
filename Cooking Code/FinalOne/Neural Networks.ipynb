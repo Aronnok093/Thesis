{
 "cells": [
  {
   "cell_type": "code",
   "execution_count": 19,
   "id": "4b5ce1c0-574b-42c3-a9f7-a59cb72b7fb0",
   "metadata": {},
   "outputs": [
    {
     "name": "stdout",
     "output_type": "stream",
     "text": [
      "Epoch 1/10\n",
      "42/42 [==============================] - 0s 1ms/step - loss: 1.7583 - accuracy: 0.4649\n",
      "Epoch 2/10\n",
      "42/42 [==============================] - 0s 1ms/step - loss: 1.0880 - accuracy: 0.5627\n",
      "Epoch 3/10\n",
      "42/42 [==============================] - 0s 1ms/step - loss: 0.6691 - accuracy: 0.7246\n",
      "Epoch 4/10\n",
      "42/42 [==============================] - 0s 1ms/step - loss: 0.3176 - accuracy: 0.9515\n",
      "Epoch 5/10\n",
      "42/42 [==============================] - 0s 1ms/step - loss: 0.1219 - accuracy: 0.9784\n",
      "Epoch 6/10\n",
      "42/42 [==============================] - 0s 1ms/step - loss: 0.0626 - accuracy: 0.9881\n",
      "Epoch 7/10\n",
      "42/42 [==============================] - 0s 1ms/step - loss: 0.0400 - accuracy: 0.9933\n",
      "Epoch 8/10\n",
      "42/42 [==============================] - 0s 1ms/step - loss: 0.0288 - accuracy: 0.9948\n",
      "Epoch 9/10\n",
      "42/42 [==============================] - 0s 1ms/step - loss: 0.0197 - accuracy: 0.9963\n",
      "Epoch 10/10\n",
      "42/42 [==============================] - 0s 1ms/step - loss: 0.0147 - accuracy: 0.9978\n",
      "11/11 [==============================] - 0s 800us/step\n",
      "Accuracy: 0.7946428571428571\n"
     ]
    }
   ],
   "source": [
    "import pandas as pd\n",
    "import numpy as np\n",
    "import tensorflow as tf\n",
    "from sklearn.model_selection import train_test_split\n",
    "from sklearn.preprocessing import LabelEncoder\n",
    "from sklearn.metrics import accuracy_score\n",
    "from sklearn.metrics import accuracy_score, classification_report, confusion_matrix\n",
    "import matplotlib.pyplot as plt\n",
    "import seaborn as sns\n",
    "\n",
    "# Load the dataset into a pandas DataFrame\n",
    "data = pd.read_csv('Supplementary 2.csv')  # Replace 'your_dataset.csv' with the actual filename\n",
    "\n",
    "# Preprocess the data (you may need to handle missing values and text data)\n",
    "# For this example, we'll drop rows with missing values\n",
    "data.dropna(inplace=True)\n",
    "\n",
    "# Define the features (X) and the target variable (y)\n",
    "X = pd.get_dummies(data[['YEAR', 'WEIGHT','GENE','REF_GENE','REF_SENTENCE','TITLE','DIS_CLASS','CONCLUSION']])\n",
    "\n",
    "# Encode the target variable using label encoding\n",
    "label_encoder = LabelEncoder()\n",
    "y_encoded = label_encoder.fit_transform(data['ASSOCIATION_CLASS'])  # Convert string labels to numerical labels\n",
    "\n",
    "# Determine the number of unique classes for output layer\n",
    "num_classes = len(label_encoder.classes_)\n",
    "\n",
    "# Split the dataset into training and testing sets\n",
    "X_train, X_test, y_train, y_test = train_test_split(X, y_encoded, test_size=0.2, random_state=42)\n",
    "\n",
    "# Fill missing values if any\n",
    "X.fillna(0, inplace=True)  # You can use other techniques for imputation\n",
    "\n",
    "# Convert DataFrame to NumPy array\n",
    "X_train = X_train.values.astype(np.float32)\n",
    "X_test = X_test.values.astype(np.float32)\n",
    "\n",
    "# Define the neural network model using TensorFlow and Keras\n",
    "model = tf.keras.Sequential([\n",
    "    tf.keras.layers.Dense(64, activation='relu', input_shape=(X_train.shape[1],)),\n",
    "    tf.keras.layers.Dense(32, activation='relu'),\n",
    "    tf.keras.layers.Dense(16, activation='relu'),\n",
    "    tf.keras.layers.Dense(num_classes, activation='softmax')  # Output layer with softmax activation for classification\n",
    "])\n",
    "# Compile the model\n",
    "model.compile(optimizer='adam', loss='sparse_categorical_crossentropy', metrics=['accuracy'])\n",
    "\n",
    "# Train the model on the training data\n",
    "model.fit(X_train, y_train, epochs=10, batch_size=32, verbose=1)\n",
    "\n",
    "# Make predictions on the testing data\n",
    "y_pred = np.argmax(model.predict(X_test), axis=1)\n",
    "\n",
    "# Calculate the accuracy of the model\n",
    "accuracy = accuracy_score(y_test, y_pred)\n",
    "print(f'Accuracy: {accuracy}')\n"
   ]
  },
  {
   "cell_type": "code",
   "execution_count": 21,
   "id": "b6b9cfbe-458c-4fc1-9168-9c0a3661fdc0",
   "metadata": {},
   "outputs": [
    {
     "data": {
      "image/png": "[encoded data removed]",
      "text/plain": [
       "<Figure size 800x600 with 1 Axes>"
      ]
     },
     "metadata": {},
     "output_type": "display_data"
    }
   ],
   "source": [
    "# Generate confusion matrix\n",
    "conf_matrix = confusion_matrix(y_test, y_pred)\n",
    "\n",
    "# Plot confusion matrix\n",
    "plt.figure(figsize=(8, 6))\n",
    "sns.heatmap(conf_matrix, annot=True, fmt='d', cmap='Blues', cbar=False)\n",
    "plt.xlabel('Predicted Labels')\n",
    "plt.ylabel('True Labels')\n",
    "plt.title('Confusion Matrix')\n",
    "plt.show()\n"
   ]
  },
  {
   "cell_type": "code",
   "execution_count": 22,
   "id": "af615488-d782-4dd2-8138-59a8e5faa024",
   "metadata": {},
   "outputs": [
    {
     "name": "stdout",
     "output_type": "stream",
     "text": [
      "Classification Report:\n",
      "              precision    recall  f1-score   support\n",
      "\n",
      "           0       0.78      0.81      0.79       107\n",
      "           1       1.00      1.00      1.00         2\n",
      "           2       1.00      0.25      0.40         4\n",
      "           3       0.69      0.58      0.63        62\n",
      "           4       1.00      1.00      1.00        22\n",
      "           5       0.99      1.00      0.99        82\n",
      "           6       0.58      0.65      0.61        57\n",
      "\n",
      "    accuracy                           0.79       336\n",
      "   macro avg       0.86      0.76      0.78       336\n",
      "weighted avg       0.80      0.79      0.79       336\n",
      "\n"
     ]
    }
   ],
   "source": [
    "from sklearn.metrics import classification_report, confusion_matrix\n",
    "\n",
    "# Calculate additional metrics\n",
    "print(\"Classification Report:\")\n",
    "print(classification_report(y_test, y_pred))\n",
    "\n"
   ]
  },
  {
   "cell_type": "code",
   "execution_count": null,
   "id": "8f9ab01f-7e87-4454-8e14-50437dbd588a",
   "metadata": {},
   "outputs": [],
   "source": []
  }
 ],
 "metadata": {
  "kernelspec": {
   "display_name": "Python 3 (ipykernel)",
   "language": "python",
   "name": "python3"
  },
  "language_info": {
   "codemirror_mode": {
    "name": "ipython",
    "version": 3
   },
   "file_extension": ".py",
   "mimetype": "text/x-python",
   "name": "python",
   "nbconvert_exporter": "python",
   "pygments_lexer": "ipython3",
   "version": "3.9.0"
  }
 },
 "nbformat": 4,
 "nbformat_minor": 5
}
